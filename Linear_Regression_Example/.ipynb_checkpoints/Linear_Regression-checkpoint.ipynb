{
 "cells": [
  {
   "cell_type": "code",
   "execution_count": 1,
   "id": "f30d10d8",
   "metadata": {},
   "outputs": [],
   "source": [
    "# Import Libraries \n",
    "\n",
    "import numpy as np \n",
    "import matplotlib.pyplot as plt \n",
    "import pandas as pd\n",
    "import seaborn as sns\n",
    "%matplotlib inline\n"
   ]
  },
  {
   "cell_type": "code",
   "execution_count": 2,
   "id": "588e1b4d",
   "metadata": {},
   "outputs": [
    {
     "data": {
      "text/html": [
       "<div>\n",
       "<style scoped>\n",
       "    .dataframe tbody tr th:only-of-type {\n",
       "        vertical-align: middle;\n",
       "    }\n",
       "\n",
       "    .dataframe tbody tr th {\n",
       "        vertical-align: top;\n",
       "    }\n",
       "\n",
       "    .dataframe thead th {\n",
       "        text-align: right;\n",
       "    }\n",
       "</style>\n",
       "<table border=\"1\" class=\"dataframe\">\n",
       "  <thead>\n",
       "    <tr style=\"text-align: right;\">\n",
       "      <th></th>\n",
       "      <th>R&amp;D Spend</th>\n",
       "      <th>Administration</th>\n",
       "      <th>Marketing Spend</th>\n",
       "      <th>State</th>\n",
       "      <th>Profit</th>\n",
       "    </tr>\n",
       "  </thead>\n",
       "  <tbody>\n",
       "    <tr>\n",
       "      <th>0</th>\n",
       "      <td>165349.20</td>\n",
       "      <td>136897.80</td>\n",
       "      <td>471784.10</td>\n",
       "      <td>New York</td>\n",
       "      <td>192261.83</td>\n",
       "    </tr>\n",
       "    <tr>\n",
       "      <th>1</th>\n",
       "      <td>162597.70</td>\n",
       "      <td>151377.59</td>\n",
       "      <td>443898.53</td>\n",
       "      <td>California</td>\n",
       "      <td>191792.06</td>\n",
       "    </tr>\n",
       "    <tr>\n",
       "      <th>2</th>\n",
       "      <td>153441.51</td>\n",
       "      <td>101145.55</td>\n",
       "      <td>407934.54</td>\n",
       "      <td>Florida</td>\n",
       "      <td>191050.39</td>\n",
       "    </tr>\n",
       "    <tr>\n",
       "      <th>3</th>\n",
       "      <td>144372.41</td>\n",
       "      <td>118671.85</td>\n",
       "      <td>383199.62</td>\n",
       "      <td>New York</td>\n",
       "      <td>182901.99</td>\n",
       "    </tr>\n",
       "    <tr>\n",
       "      <th>4</th>\n",
       "      <td>142107.34</td>\n",
       "      <td>91391.77</td>\n",
       "      <td>366168.42</td>\n",
       "      <td>Florida</td>\n",
       "      <td>166187.94</td>\n",
       "    </tr>\n",
       "  </tbody>\n",
       "</table>\n",
       "</div>"
      ],
      "text/plain": [
       "   R&D Spend  Administration  Marketing Spend       State     Profit\n",
       "0  165349.20       136897.80        471784.10    New York  192261.83\n",
       "1  162597.70       151377.59        443898.53  California  191792.06\n",
       "2  153441.51       101145.55        407934.54     Florida  191050.39\n",
       "3  144372.41       118671.85        383199.62    New York  182901.99\n",
       "4  142107.34        91391.77        366168.42     Florida  166187.94"
      ]
     },
     "execution_count": 2,
     "metadata": {},
     "output_type": "execute_result"
    }
   ],
   "source": [
    "# import CSV file to dataframe\n",
    "\n",
    "companies = pd.read_csv('Companies.csv')\n",
    "companies.head()"
   ]
  },
  {
   "cell_type": "code",
   "execution_count": 3,
   "id": "91b6650a",
   "metadata": {},
   "outputs": [],
   "source": [
    "X = companies.iloc[:,:-1].values # Setting all the independent Variables to The X variable"
   ]
  },
  {
   "cell_type": "code",
   "execution_count": 4,
   "id": "4cb594fb",
   "metadata": {},
   "outputs": [],
   "source": [
    "y = companies.iloc[:,4].values  # Setting all the dependent Variables to The y variable"
   ]
  },
  {
   "cell_type": "code",
   "execution_count": 5,
   "id": "7a7fb29b",
   "metadata": {},
   "outputs": [
    {
     "data": {
      "text/plain": [
       "<Axes: >"
      ]
     },
     "execution_count": 5,
     "metadata": {},
     "output_type": "execute_result"
    },
    {
     "data": {
      "image/png": "[encoded data removed]",
      "text/plain": [
       "<Figure size 640x480 with 2 Axes>"
      ]
     },
     "metadata": {},
     "output_type": "display_data"
    }
   ],
   "source": [
    "#  'State' is the only non-numeric column\n",
    "correlation_matrix = companies.drop('State', axis=1).corr()\n",
    "sns.heatmap(correlation_matrix, cmap='coolwarm' ,vmin=0, vmax=1, center=0)\n"
   ]
  },
  {
   "cell_type": "code",
   "execution_count": 6,
   "id": "66ba48b3",
   "metadata": {},
   "outputs": [
    {
     "data": {
      "text/plain": [
       "array(['New York', 'California', 'Florida'], dtype=object)"
      ]
     },
     "execution_count": 6,
     "metadata": {},
     "output_type": "execute_result"
    }
   ],
   "source": [
    "companies['State'].unique()\n",
    "# see how many unique values are there in state"
   ]
  },
  {
   "cell_type": "code",
   "execution_count": 7,
   "id": "ed280a56",
   "metadata": {},
   "outputs": [
    {
     "data": {
      "text/plain": [
       "array([[0.0, 0.0, 1.0, 165349.2, 136897.8, 471784.1],\n",
       "       [1.0, 0.0, 0.0, 162597.7, 151377.59, 443898.53],\n",
       "       [0.0, 1.0, 0.0, 153441.51, 101145.55, 407934.54],\n",
       "       ...,\n",
       "       [1.0, 0.0, 0.0, 100275.47, 241926.31, 227142.82],\n",
       "       [1.0, 0.0, 0.0, 128456.23, 321652.14, 281692.32],\n",
       "       [0.0, 0.0, 1.0, 161181.72, 270939.86, 295442.17]], dtype=object)"
      ]
     },
     "execution_count": 7,
     "metadata": {},
     "output_type": "execute_result"
    }
   ],
   "source": [
    "# Encoding The State Column\n",
    "from sklearn.preprocessing import LabelEncoder, OneHotEncoder\n",
    "from sklearn.compose import ColumnTransformer\n",
    "\n",
    "labelencoder = LabelEncoder()\n",
    "X[:, 3] = labelencoder.fit_transform(X[:, 3])\n",
    "\n",
    "onehotencoder = ColumnTransformer(\n",
    "    transformers=[\n",
    "        (\"State\", OneHotEncoder(), [3])\n",
    "    ],\n",
    "    remainder=\"passthrough\"\n",
    ")\n",
    "\n",
    "# Applying the ColumnTransformer to matrix X\n",
    "X = onehotencoder.fit_transform(X)\n",
    "X"
   ]
  },
  {
   "cell_type": "code",
   "execution_count": 8,
   "id": "ee178588",
   "metadata": {},
   "outputs": [],
   "source": [
    "# Splitting the Data into training and testing set"
   ]
  },
  {
   "cell_type": "code",
   "execution_count": 9,
   "id": "584cdf1e",
   "metadata": {},
   "outputs": [],
   "source": [
    "from sklearn.model_selection import train_test_split\n",
    "X_train, X_test, y_train, y_test = train_test_split(X,y,test_size = 0.2)"
   ]
  },
  {
   "cell_type": "code",
   "execution_count": 10,
   "id": "af5eb601",
   "metadata": {},
   "outputs": [
    {
     "name": "stdout",
     "output_type": "stream",
     "text": [
      "200\n"
     ]
    }
   ],
   "source": [
    "# 80% of data is for training and 20% is for testing\n",
    "print(len(X_test))"
   ]
  },
  {
   "cell_type": "code",
   "execution_count": 11,
   "id": "b197180e",
   "metadata": {},
   "outputs": [
    {
     "data": {
      "text/html": [
       "<style>#sk-container-id-1 {color: black;}#sk-container-id-1 pre{padding: 0;}#sk-container-id-1 div.sk-toggleable {background-color: white;}#sk-container-id-1 label.sk-toggleable__label {cursor: pointer;display: block;width: 100%;margin-bottom: 0;padding: 0.3em;box-sizing: border-box;text-align: center;}#sk-container-id-1 label.sk-toggleable__label-arrow:before {content: \"▸\";float: left;margin-right: 0.25em;color: #696969;}#sk-container-id-1 label.sk-toggleable__label-arrow:hover:before {color: black;}#sk-container-id-1 div.sk-estimator:hover label.sk-toggleable__label-arrow:before {color: black;}#sk-container-id-1 div.sk-toggleable__content {max-height: 0;max-width: 0;overflow: hidden;text-align: left;background-color: #f0f8ff;}#sk-container-id-1 div.sk-toggleable__content pre {margin: 0.2em;color: black;border-radius: 0.25em;background-color: #f0f8ff;}#sk-container-id-1 input.sk-toggleable__control:checked~div.sk-toggleable__content {max-height: 200px;max-width: 100%;overflow: auto;}#sk-container-id-1 input.sk-toggleable__control:checked~label.sk-toggleable__label-arrow:before {content: \"▾\";}#sk-container-id-1 div.sk-estimator input.sk-toggleable__control:checked~label.sk-toggleable__label {background-color: #d4ebff;}#sk-container-id-1 div.sk-label input.sk-toggleable__control:checked~label.sk-toggleable__label {background-color: #d4ebff;}#sk-container-id-1 input.sk-hidden--visually {border: 0;clip: rect(1px 1px 1px 1px);clip: rect(1px, 1px, 1px, 1px);height: 1px;margin: -1px;overflow: hidden;padding: 0;position: absolute;width: 1px;}#sk-container-id-1 div.sk-estimator {font-family: monospace;background-color: #f0f8ff;border: 1px dotted black;border-radius: 0.25em;box-sizing: border-box;margin-bottom: 0.5em;}#sk-container-id-1 div.sk-estimator:hover {background-color: #d4ebff;}#sk-container-id-1 div.sk-parallel-item::after {content: \"\";width: 100%;border-bottom: 1px solid gray;flex-grow: 1;}#sk-container-id-1 div.sk-label:hover label.sk-toggleable__label {background-color: #d4ebff;}#sk-container-id-1 div.sk-serial::before {content: \"\";position: absolute;border-left: 1px solid gray;box-sizing: border-box;top: 0;bottom: 0;left: 50%;z-index: 0;}#sk-container-id-1 div.sk-serial {display: flex;flex-direction: column;align-items: center;background-color: white;padding-right: 0.2em;padding-left: 0.2em;position: relative;}#sk-container-id-1 div.sk-item {position: relative;z-index: 1;}#sk-container-id-1 div.sk-parallel {display: flex;align-items: stretch;justify-content: center;background-color: white;position: relative;}#sk-container-id-1 div.sk-item::before, #sk-container-id-1 div.sk-parallel-item::before {content: \"\";position: absolute;border-left: 1px solid gray;box-sizing: border-box;top: 0;bottom: 0;left: 50%;z-index: -1;}#sk-container-id-1 div.sk-parallel-item {display: flex;flex-direction: column;z-index: 1;position: relative;background-color: white;}#sk-container-id-1 div.sk-parallel-item:first-child::after {align-self: flex-end;width: 50%;}#sk-container-id-1 div.sk-parallel-item:last-child::after {align-self: flex-start;width: 50%;}#sk-container-id-1 div.sk-parallel-item:only-child::after {width: 0;}#sk-container-id-1 div.sk-dashed-wrapped {border: 1px dashed gray;margin: 0 0.4em 0.5em 0.4em;box-sizing: border-box;padding-bottom: 0.4em;background-color: white;}#sk-container-id-1 div.sk-label label {font-family: monospace;font-weight: bold;display: inline-block;line-height: 1.2em;}#sk-container-id-1 div.sk-label-container {text-align: center;}#sk-container-id-1 div.sk-container {/* jupyter's `normalize.less` sets `[hidden] { display: none; }` but bootstrap.min.css set `[hidden] { display: none !important; }` so we also need the `!important` here to be able to override the default hidden behavior on the sphinx rendered scikit-learn.org. See: https://github.com/scikit-learn/scikit-learn/issues/21755 */display: inline-block !important;position: relative;}#sk-container-id-1 div.sk-text-repr-fallback {display: none;}</style><div id=\"sk-container-id-1\" class=\"sk-top-container\"><div class=\"sk-text-repr-fallback\"><pre>LinearRegression()</pre><b>In a Jupyter environment, please rerun this cell to show the HTML representation or trust the notebook. <br />On GitHub, the HTML representation is unable to render, please try loading this page with nbviewer.org.</b></div><div class=\"sk-container\" hidden><div class=\"sk-item\"><div class=\"sk-estimator sk-toggleable\"><input class=\"sk-toggleable__control sk-hidden--visually\" id=\"sk-estimator-id-1\" type=\"checkbox\" checked><label for=\"sk-estimator-id-1\" class=\"sk-toggleable__label sk-toggleable__label-arrow\">LinearRegression</label><div class=\"sk-toggleable__content\"><pre>LinearRegression()</pre></div></div></div></div></div>"
      ],
      "text/plain": [
       "LinearRegression()"
      ]
     },
     "execution_count": 11,
     "metadata": {},
     "output_type": "execute_result"
    }
   ],
   "source": [
    "# fitting Multiple Linear Regression to the Training Set\n",
    "from sklearn.linear_model import LinearRegression \n",
    "regressor = LinearRegression()\n",
    "regressor.fit(X_train,y_train)"
   ]
  },
  {
   "cell_type": "code",
   "execution_count": 12,
   "id": "bf7da5cd",
   "metadata": {},
   "outputs": [
    {
     "data": {
      "text/plain": [
       "array([168195.76709884, 144071.48408763,  78474.90150159, 123721.43743924,\n",
       "       109098.8668969 ,  79241.48673922,  51640.1309429 , 166842.48627773,\n",
       "       175847.04232682,  58014.14155996, 105626.93896391,  91086.21027493,\n",
       "       123774.80170184, 173758.70226228,  73625.38797809, 179624.23246954,\n",
       "        77728.4196919 ,  55816.04828528,  92489.72083919,  87320.64344316,\n",
       "        70032.17420973,  69123.6290572 , 163130.26377578,  69159.64309402,\n",
       "       139796.95680784,  74104.33675442,  55606.82362567, 181553.17629223,\n",
       "       174298.25653857, 100606.60655996, 185364.86614183, 150596.71014303,\n",
       "       124349.49264966, 185534.44614263,  57401.90626602, 126229.76091728,\n",
       "       177950.91168294,  72570.50944665,  91424.73331189, 145545.48862234,\n",
       "       186161.64387047, 162429.90499134, 172395.69384238, 102431.11881967,\n",
       "       310292.46285788, 147619.72760922,  65274.02938628, 161701.04884289,\n",
       "       178113.83250837,  95536.33976625,  60739.02950007, 119163.94245806,\n",
       "       155125.23158006, 171457.43222687,  80007.59588391,  82673.11326512,\n",
       "       176732.63622569, 124802.91770231,  72653.48413086, 172062.81162651,\n",
       "       147439.75462809,  57398.29565807,  75894.09372481, 101333.07104287,\n",
       "       164764.61666589, 149500.4467446 , 154401.9963125 , 170585.17661896,\n",
       "        56546.14331932,  76839.21510086, 109154.80362952,  80936.72055733,\n",
       "       105322.53433137,  85323.10136217, 106664.0111094 , 114181.99588119,\n",
       "        51119.84247019, 153034.70052232, 166336.373648  ,  62230.84034245,\n",
       "        57262.13735546, 172526.03044633, 105451.53733753, 109714.73668202,\n",
       "       117726.15261767, 120670.53106214,  91607.37609586, 164137.14351003,\n",
       "       118302.37782078, 142069.27324673,  96752.90024348, 103415.02736748,\n",
       "        58307.40292644,  58527.59399288, 149275.99353827, 107462.32300616,\n",
       "       169208.0671214 ,  89541.89258167,  73789.84297906, 151234.85441652,\n",
       "       170492.09285913, 136993.00410273,  91961.3137809 , 154758.05030738,\n",
       "       104492.01959536,  94926.85372847,  83953.70920234,  84874.25905545,\n",
       "       123611.20419089, 156733.86016876, 150606.3230983 , 182387.0262052 ,\n",
       "       162008.68269077, 162203.33017532,  98692.8966532 , 158904.8133809 ,\n",
       "       142197.89494301, 124473.8268959 , 141593.37303338,  60652.22359833,\n",
       "       183974.21776816,  81247.98503758, 139717.88809684, 102930.17102394,\n",
       "       108467.96386076, 116895.91338944, 129768.57212856, 178350.49638003,\n",
       "       141312.12023223, 158376.78779943,  88053.13022398,  50033.2173409 ,\n",
       "       139086.58373087, 174707.27346622, 149729.12322268, 158736.92849967,\n",
       "       113644.55792218, 178603.65298747,  52875.28045248,  86881.27205387,\n",
       "       101267.04525459, 289961.53277891, 152201.05127427,  52060.91489737,\n",
       "        85804.82319367, 139176.81959264, 147385.45541052, 181561.9516977 ,\n",
       "        88179.36017495, 141904.63751363, 173457.25140965, 165887.91273092,\n",
       "       125498.01963961,  60666.32459622,  95357.78368764, 136727.00523749,\n",
       "       145896.87377755, 180705.13067805, 158883.17578484,  88844.38169528,\n",
       "        80119.54411227, 120992.46665259,  58914.11590755, 120883.3862699 ,\n",
       "        99044.28180841,  63385.86306364, 149811.05969218,  65490.9712994 ,\n",
       "       120597.16889389, 116482.60901176, 132348.90388473, 142797.74807789,\n",
       "       120387.94475038,  55043.66136005,  61264.66342119, 115147.89737071,\n",
       "        91774.58429899,  91356.79187868, 107713.38332371,  60403.0788504 ,\n",
       "       105586.16139152, 156371.82375637, 146421.83101537, 169032.4847703 ,\n",
       "        76289.19037929, 176337.99572396, 103572.80333262,  55549.58960019,\n",
       "        52081.25592377, 148352.690483  , 128591.91180093, 109379.64360509,\n",
       "       116892.00741623, 122013.54209546, 171163.3173149 , 182805.47544317,\n",
       "        99374.59156168, 145543.77364232,  67367.33358638, 122024.68930604])"
      ]
     },
     "execution_count": 12,
     "metadata": {},
     "output_type": "execute_result"
    }
   ],
   "source": [
    "y_pred = regressor.predict(X_test)\n",
    "y_pred"
   ]
  },
  {
   "cell_type": "code",
   "execution_count": 13,
   "id": "61724cb3",
   "metadata": {},
   "outputs": [
    {
     "data": {
      "text/plain": [
       "array([ 3.26028974e+02, -2.29797433e+02, -9.62315412e+01,  5.96494562e-01,\n",
       "        7.97629375e-01,  7.42086482e-02])"
      ]
     },
     "execution_count": 13,
     "metadata": {},
     "output_type": "execute_result"
    }
   ],
   "source": [
    "regressor.coef_ # Coefficeint of the X's in Y = MX + C"
   ]
  },
  {
   "cell_type": "code",
   "execution_count": 14,
   "id": "2a51b7ae",
   "metadata": {},
   "outputs": [
    {
     "data": {
      "text/plain": [
       "-44120.21032829273"
      ]
     },
     "execution_count": 14,
     "metadata": {},
     "output_type": "execute_result"
    }
   ],
   "source": [
    "regressor.intercept_ # Y intercept of plot of Y = MX + C"
   ]
  },
  {
   "cell_type": "code",
   "execution_count": 15,
   "id": "cac2256d",
   "metadata": {},
   "outputs": [
    {
     "data": {
      "text/plain": [
       "0.9161404116176576"
      ]
     },
     "execution_count": 15,
     "metadata": {},
     "output_type": "execute_result"
    }
   ],
   "source": [
    "from sklearn.metrics import r2_score \n",
    "r2_score(y_test,y_pred)\n",
    "#R2 score tells us how good the line of best fit is "
   ]
  },
  {
   "cell_type": "code",
   "execution_count": 16,
   "id": "e8a91025",
   "metadata": {},
   "outputs": [],
   "source": [
    "Bank = companies['Profit'] > 150000"
   ]
  },
  {
   "cell_type": "code",
   "execution_count": 18,
   "id": "2d6412a5",
   "metadata": {},
   "outputs": [],
   "source": [
    "NYC = companies['State'] == 'New York'"
   ]
  },
  {
   "cell_type": "code",
   "execution_count": 20,
   "id": "f8c38f55",
   "metadata": {},
   "outputs": [
    {
     "data": {
      "text/html": [
       "<div>\n",
       "<style scoped>\n",
       "    .dataframe tbody tr th:only-of-type {\n",
       "        vertical-align: middle;\n",
       "    }\n",
       "\n",
       "    .dataframe tbody tr th {\n",
       "        vertical-align: top;\n",
       "    }\n",
       "\n",
       "    .dataframe thead th {\n",
       "        text-align: right;\n",
       "    }\n",
       "</style>\n",
       "<table border=\"1\" class=\"dataframe\">\n",
       "  <thead>\n",
       "    <tr style=\"text-align: right;\">\n",
       "      <th></th>\n",
       "      <th>R&amp;D Spend</th>\n",
       "      <th>Administration</th>\n",
       "      <th>Marketing Spend</th>\n",
       "      <th>State</th>\n",
       "      <th>Profit</th>\n",
       "    </tr>\n",
       "  </thead>\n",
       "  <tbody>\n",
       "    <tr>\n",
       "      <th>0</th>\n",
       "      <td>165349.20</td>\n",
       "      <td>136897.8000</td>\n",
       "      <td>471784.1000</td>\n",
       "      <td>New York</td>\n",
       "      <td>192261.83000</td>\n",
       "    </tr>\n",
       "    <tr>\n",
       "      <th>3</th>\n",
       "      <td>144372.41</td>\n",
       "      <td>118671.8500</td>\n",
       "      <td>383199.6200</td>\n",
       "      <td>New York</td>\n",
       "      <td>182901.99000</td>\n",
       "    </tr>\n",
       "    <tr>\n",
       "      <th>5</th>\n",
       "      <td>131876.90</td>\n",
       "      <td>99814.7100</td>\n",
       "      <td>362861.3600</td>\n",
       "      <td>New York</td>\n",
       "      <td>156991.12000</td>\n",
       "    </tr>\n",
       "    <tr>\n",
       "      <th>8</th>\n",
       "      <td>120542.52</td>\n",
       "      <td>148718.9500</td>\n",
       "      <td>311613.2900</td>\n",
       "      <td>New York</td>\n",
       "      <td>152211.77000</td>\n",
       "    </tr>\n",
       "    <tr>\n",
       "      <th>15</th>\n",
       "      <td>114523.61</td>\n",
       "      <td>122616.8400</td>\n",
       "      <td>261776.2300</td>\n",
       "      <td>New York</td>\n",
       "      <td>129917.04000</td>\n",
       "    </tr>\n",
       "    <tr>\n",
       "      <th>...</th>\n",
       "      <td>...</td>\n",
       "      <td>...</td>\n",
       "      <td>...</td>\n",
       "      <td>...</td>\n",
       "      <td>...</td>\n",
       "    </tr>\n",
       "    <tr>\n",
       "      <th>985</th>\n",
       "      <td>63615.00</td>\n",
       "      <td>119852.0486</td>\n",
       "      <td>191524.3554</td>\n",
       "      <td>New York</td>\n",
       "      <td>103378.64470</td>\n",
       "    </tr>\n",
       "    <tr>\n",
       "      <th>987</th>\n",
       "      <td>41289.00</td>\n",
       "      <td>116554.8432</td>\n",
       "      <td>148446.2774</td>\n",
       "      <td>New York</td>\n",
       "      <td>84305.73556</td>\n",
       "    </tr>\n",
       "    <tr>\n",
       "      <th>991</th>\n",
       "      <td>131106.00</td>\n",
       "      <td>129819.4269</td>\n",
       "      <td>321748.4242</td>\n",
       "      <td>New York</td>\n",
       "      <td>161035.62360</td>\n",
       "    </tr>\n",
       "    <tr>\n",
       "      <th>994</th>\n",
       "      <td>97209.00</td>\n",
       "      <td>124813.3635</td>\n",
       "      <td>256344.0701</td>\n",
       "      <td>New York</td>\n",
       "      <td>132077.70900</td>\n",
       "    </tr>\n",
       "    <tr>\n",
       "      <th>999</th>\n",
       "      <td>161181.72</td>\n",
       "      <td>270939.8600</td>\n",
       "      <td>295442.1700</td>\n",
       "      <td>New York</td>\n",
       "      <td>476485.43000</td>\n",
       "    </tr>\n",
       "  </tbody>\n",
       "</table>\n",
       "<p>334 rows × 5 columns</p>\n",
       "</div>"
      ],
      "text/plain": [
       "     R&D Spend  Administration  Marketing Spend     State        Profit\n",
       "0    165349.20     136897.8000      471784.1000  New York  192261.83000\n",
       "3    144372.41     118671.8500      383199.6200  New York  182901.99000\n",
       "5    131876.90      99814.7100      362861.3600  New York  156991.12000\n",
       "8    120542.52     148718.9500      311613.2900  New York  152211.77000\n",
       "15   114523.61     122616.8400      261776.2300  New York  129917.04000\n",
       "..         ...             ...              ...       ...           ...\n",
       "985   63615.00     119852.0486      191524.3554  New York  103378.64470\n",
       "987   41289.00     116554.8432      148446.2774  New York   84305.73556\n",
       "991  131106.00     129819.4269      321748.4242  New York  161035.62360\n",
       "994   97209.00     124813.3635      256344.0701  New York  132077.70900\n",
       "999  161181.72     270939.8600      295442.1700  New York  476485.43000\n",
       "\n",
       "[334 rows x 5 columns]"
      ]
     },
     "execution_count": 20,
     "metadata": {},
     "output_type": "execute_result"
    }
   ],
   "source": [
    "companies[NYC]"
   ]
  },
  {
   "cell_type": "code",
   "execution_count": null,
   "id": "d12ec6fb",
   "metadata": {},
   "outputs": [],
   "source": []
  }
 ],
 "metadata": {
  "kernelspec": {
   "display_name": "Python 3 (ipykernel)",
   "language": "python",
   "name": "python3"
  },
  "language_info": {
   "codemirror_mode": {
    "name": "ipython",
    "version": 3
   },
   "file_extension": ".py",
   "mimetype": "text/x-python",
   "name": "python",
   "nbconvert_exporter": "python",
   "pygments_lexer": "ipython3",
   "version": "3.11.5"
  }
 },
 "nbformat": 4,
 "nbformat_minor": 5
}
