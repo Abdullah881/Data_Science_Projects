{
 "cells": [
  {
   "cell_type": "code",
   "execution_count": 1,
   "id": "f30d10d8",
   "metadata": {},
   "outputs": [],
   "source": [
    "# Import Libraries \n",
    "\n",
    "import numpy as np \n",
    "import matplotlib.pyplot as plt \n",
    "import pandas as pd\n",
    "import seaborn as sns\n",
    "%matplotlib inline\n"
   ]
  },
  {
   "cell_type": "code",
   "execution_count": 2,
   "id": "588e1b4d",
   "metadata": {},
   "outputs": [
    {
     "data": {
      "text/html": [
       "<div>\n",
       "<style scoped>\n",
       "    .dataframe tbody tr th:only-of-type {\n",
       "        vertical-align: middle;\n",
       "    }\n",
       "\n",
       "    .dataframe tbody tr th {\n",
       "        vertical-align: top;\n",
       "    }\n",
       "\n",
       "    .dataframe thead th {\n",
       "        text-align: right;\n",
       "    }\n",
       "</style>\n",
       "<table border=\"1\" class=\"dataframe\">\n",
       "  <thead>\n",
       "    <tr style=\"text-align: right;\">\n",
       "      <th></th>\n",
       "      <th>R&amp;D Spend</th>\n",
       "      <th>Administration</th>\n",
       "      <th>Marketing Spend</th>\n",
       "      <th>State</th>\n",
       "      <th>Profit</th>\n",
       "    </tr>\n",
       "  </thead>\n",
       "  <tbody>\n",
       "    <tr>\n",
       "      <th>0</th>\n",
       "      <td>165349.20</td>\n",
       "      <td>136897.80</td>\n",
       "      <td>471784.10</td>\n",
       "      <td>New York</td>\n",
       "      <td>192261.83</td>\n",
       "    </tr>\n",
       "    <tr>\n",
       "      <th>1</th>\n",
       "      <td>162597.70</td>\n",
       "      <td>151377.59</td>\n",
       "      <td>443898.53</td>\n",
       "      <td>California</td>\n",
       "      <td>191792.06</td>\n",
       "    </tr>\n",
       "    <tr>\n",
       "      <th>2</th>\n",
       "      <td>153441.51</td>\n",
       "      <td>101145.55</td>\n",
       "      <td>407934.54</td>\n",
       "      <td>Florida</td>\n",
       "      <td>191050.39</td>\n",
       "    </tr>\n",
       "    <tr>\n",
       "      <th>3</th>\n",
       "      <td>144372.41</td>\n",
       "      <td>118671.85</td>\n",
       "      <td>383199.62</td>\n",
       "      <td>New York</td>\n",
       "      <td>182901.99</td>\n",
       "    </tr>\n",
       "    <tr>\n",
       "      <th>4</th>\n",
       "      <td>142107.34</td>\n",
       "      <td>91391.77</td>\n",
       "      <td>366168.42</td>\n",
       "      <td>Florida</td>\n",
       "      <td>166187.94</td>\n",
       "    </tr>\n",
       "  </tbody>\n",
       "</table>\n",
       "</div>"
      ],
      "text/plain": [
       "   R&D Spend  Administration  Marketing Spend       State     Profit\n",
       "0  165349.20       136897.80        471784.10    New York  192261.83\n",
       "1  162597.70       151377.59        443898.53  California  191792.06\n",
       "2  153441.51       101145.55        407934.54     Florida  191050.39\n",
       "3  144372.41       118671.85        383199.62    New York  182901.99\n",
       "4  142107.34        91391.77        366168.42     Florida  166187.94"
      ]
     },
     "execution_count": 2,
     "metadata": {},
     "output_type": "execute_result"
    }
   ],
   "source": [
    "# import CSV file to dataframe\n",
    "\n",
    "companies = pd.read_csv('Companies.csv')\n",
    "companies.head()"
   ]
  },
  {
   "cell_type": "code",
   "execution_count": 3,
   "id": "91b6650a",
   "metadata": {},
   "outputs": [],
   "source": [
    "X = companies.iloc[:,:-1].values # Setting all the independent Variables to The X variable"
   ]
  },
  {
   "cell_type": "code",
   "execution_count": 4,
   "id": "4cb594fb",
   "metadata": {},
   "outputs": [],
   "source": [
    "y = companies.iloc[:,4].values  # Setting all the dependent Variables to The y variable"
   ]
  },
  {
   "cell_type": "code",
   "execution_count": 5,
   "id": "7a7fb29b",
   "metadata": {},
   "outputs": [
    {
     "data": {
      "text/plain": [
       "<Axes: >"
      ]
     },
     "execution_count": 5,
     "metadata": {},
     "output_type": "execute_result"
    },
    {
     "data": {
      "image/png": "[encoded data removed]",
      "text/plain": [
       "<Figure size 640x480 with 2 Axes>"
      ]
     },
     "metadata": {},
     "output_type": "display_data"
    }
   ],
   "source": [
    "#  'State' is the only non-numeric column\n",
    "correlation_matrix = companies.drop('State', axis=1).corr()\n",
    "sns.heatmap(correlation_matrix, cmap='coolwarm' ,vmin=0, vmax=1, center=0)\n"
   ]
  },
  {
   "cell_type": "code",
   "execution_count": 6,
   "id": "66ba48b3",
   "metadata": {},
   "outputs": [
    {
     "data": {
      "text/plain": [
       "array(['New York', 'California', 'Florida'], dtype=object)"
      ]
     },
     "execution_count": 6,
     "metadata": {},
     "output_type": "execute_result"
    }
   ],
   "source": [
    "companies['State'].unique()\n",
    "# see how many unique values are there in state"
   ]
  },
  {
   "cell_type": "code",
   "execution_count": 7,
   "id": "ed280a56",
   "metadata": {},
   "outputs": [
    {
     "data": {
      "text/plain": [
       "array([[0.0, 0.0, 1.0, 165349.2, 136897.8, 471784.1],\n",
       "       [1.0, 0.0, 0.0, 162597.7, 151377.59, 443898.53],\n",
       "       [0.0, 1.0, 0.0, 153441.51, 101145.55, 407934.54],\n",
       "       ...,\n",
       "       [1.0, 0.0, 0.0, 100275.47, 241926.31, 227142.82],\n",
       "       [1.0, 0.0, 0.0, 128456.23, 321652.14, 281692.32],\n",
       "       [0.0, 0.0, 1.0, 161181.72, 270939.86, 295442.17]], dtype=object)"
      ]
     },
     "execution_count": 7,
     "metadata": {},
     "output_type": "execute_result"
    }
   ],
   "source": [
    "# Encoding The State Column\n",
    "from sklearn.preprocessing import LabelEncoder, OneHotEncoder\n",
    "from sklearn.compose import ColumnTransformer\n",
    "\n",
    "labelencoder = LabelEncoder()\n",
    "X[:, 3] = labelencoder.fit_transform(X[:, 3])\n",
    "\n",
    "onehotencoder = ColumnTransformer(\n",
    "    transformers=[\n",
    "        (\"State\", OneHotEncoder(), [3])\n",
    "    ],\n",
    "    remainder=\"passthrough\"\n",
    ")\n",
    "\n",
    "# Applying the ColumnTransformer to matrix X\n",
    "X = onehotencoder.fit_transform(X)\n",
    "X"
   ]
  },
  {
   "cell_type": "code",
   "execution_count": 8,
   "id": "ee178588",
   "metadata": {},
   "outputs": [],
   "source": [
    "# Splitting the Data into training and testing set"
   ]
  },
  {
   "cell_type": "code",
   "execution_count": 9,
   "id": "584cdf1e",
   "metadata": {},
   "outputs": [],
   "source": [
    "from sklearn.model_selection import train_test_split\n",
    "X_train, X_test, y_train, y_test = train_test_split(X,y,test_size = 0.2)"
   ]
  },
  {
   "cell_type": "code",
   "execution_count": 10,
   "id": "af5eb601",
   "metadata": {},
   "outputs": [
    {
     "name": "stdout",
     "output_type": "stream",
     "text": [
      "200\n"
     ]
    }
   ],
   "source": [
    "# 80% of data is for training and 20% is for testing\n",
    "print(len(X_test))"
   ]
  },
  {
   "cell_type": "code",
   "execution_count": 11,
   "id": "b197180e",
   "metadata": {},
   "outputs": [
    {
     "data": {
      "text/html": [
       "<style>#sk-container-id-1 {color: black;}#sk-container-id-1 pre{padding: 0;}#sk-container-id-1 div.sk-toggleable {background-color: white;}#sk-container-id-1 label.sk-toggleable__label {cursor: pointer;display: block;width: 100%;margin-bottom: 0;padding: 0.3em;box-sizing: border-box;text-align: center;}#sk-container-id-1 label.sk-toggleable__label-arrow:before {content: \"▸\";float: left;margin-right: 0.25em;color: #696969;}#sk-container-id-1 label.sk-toggleable__label-arrow:hover:before {color: black;}#sk-container-id-1 div.sk-estimator:hover label.sk-toggleable__label-arrow:before {color: black;}#sk-container-id-1 div.sk-toggleable__content {max-height: 0;max-width: 0;overflow: hidden;text-align: left;background-color: #f0f8ff;}#sk-container-id-1 div.sk-toggleable__content pre {margin: 0.2em;color: black;border-radius: 0.25em;background-color: #f0f8ff;}#sk-container-id-1 input.sk-toggleable__control:checked~div.sk-toggleable__content {max-height: 200px;max-width: 100%;overflow: auto;}#sk-container-id-1 input.sk-toggleable__control:checked~label.sk-toggleable__label-arrow:before {content: \"▾\";}#sk-container-id-1 div.sk-estimator input.sk-toggleable__control:checked~label.sk-toggleable__label {background-color: #d4ebff;}#sk-container-id-1 div.sk-label input.sk-toggleable__control:checked~label.sk-toggleable__label {background-color: #d4ebff;}#sk-container-id-1 input.sk-hidden--visually {border: 0;clip: rect(1px 1px 1px 1px);clip: rect(1px, 1px, 1px, 1px);height: 1px;margin: -1px;overflow: hidden;padding: 0;position: absolute;width: 1px;}#sk-container-id-1 div.sk-estimator {font-family: monospace;background-color: #f0f8ff;border: 1px dotted black;border-radius: 0.25em;box-sizing: border-box;margin-bottom: 0.5em;}#sk-container-id-1 div.sk-estimator:hover {background-color: #d4ebff;}#sk-container-id-1 div.sk-parallel-item::after {content: \"\";width: 100%;border-bottom: 1px solid gray;flex-grow: 1;}#sk-container-id-1 div.sk-label:hover label.sk-toggleable__label {background-color: #d4ebff;}#sk-container-id-1 div.sk-serial::before {content: \"\";position: absolute;border-left: 1px solid gray;box-sizing: border-box;top: 0;bottom: 0;left: 50%;z-index: 0;}#sk-container-id-1 div.sk-serial {display: flex;flex-direction: column;align-items: center;background-color: white;padding-right: 0.2em;padding-left: 0.2em;position: relative;}#sk-container-id-1 div.sk-item {position: relative;z-index: 1;}#sk-container-id-1 div.sk-parallel {display: flex;align-items: stretch;justify-content: center;background-color: white;position: relative;}#sk-container-id-1 div.sk-item::before, #sk-container-id-1 div.sk-parallel-item::before {content: \"\";position: absolute;border-left: 1px solid gray;box-sizing: border-box;top: 0;bottom: 0;left: 50%;z-index: -1;}#sk-container-id-1 div.sk-parallel-item {display: flex;flex-direction: column;z-index: 1;position: relative;background-color: white;}#sk-container-id-1 div.sk-parallel-item:first-child::after {align-self: flex-end;width: 50%;}#sk-container-id-1 div.sk-parallel-item:last-child::after {align-self: flex-start;width: 50%;}#sk-container-id-1 div.sk-parallel-item:only-child::after {width: 0;}#sk-container-id-1 div.sk-dashed-wrapped {border: 1px dashed gray;margin: 0 0.4em 0.5em 0.4em;box-sizing: border-box;padding-bottom: 0.4em;background-color: white;}#sk-container-id-1 div.sk-label label {font-family: monospace;font-weight: bold;display: inline-block;line-height: 1.2em;}#sk-container-id-1 div.sk-label-container {text-align: center;}#sk-container-id-1 div.sk-container {/* jupyter's `normalize.less` sets `[hidden] { display: none; }` but bootstrap.min.css set `[hidden] { display: none !important; }` so we also need the `!important` here to be able to override the default hidden behavior on the sphinx rendered scikit-learn.org. See: https://github.com/scikit-learn/scikit-learn/issues/21755 */display: inline-block !important;position: relative;}#sk-container-id-1 div.sk-text-repr-fallback {display: none;}</style><div id=\"sk-container-id-1\" class=\"sk-top-container\"><div class=\"sk-text-repr-fallback\"><pre>LinearRegression()</pre><b>In a Jupyter environment, please rerun this cell to show the HTML representation or trust the notebook. <br />On GitHub, the HTML representation is unable to render, please try loading this page with nbviewer.org.</b></div><div class=\"sk-container\" hidden><div class=\"sk-item\"><div class=\"sk-estimator sk-toggleable\"><input class=\"sk-toggleable__control sk-hidden--visually\" id=\"sk-estimator-id-1\" type=\"checkbox\" checked><label for=\"sk-estimator-id-1\" class=\"sk-toggleable__label sk-toggleable__label-arrow\">LinearRegression</label><div class=\"sk-toggleable__content\"><pre>LinearRegression()</pre></div></div></div></div></div>"
      ],
      "text/plain": [
       "LinearRegression()"
      ]
     },
     "execution_count": 11,
     "metadata": {},
     "output_type": "execute_result"
    }
   ],
   "source": [
    "# fitting Multiple Linear Regression to the Training Set\n",
    "from sklearn.linear_model import LinearRegression \n",
    "regressor = LinearRegression()\n",
    "regressor.fit(X_train,y_train)"
   ]
  },
  {
   "cell_type": "code",
   "execution_count": 12,
   "id": "bf7da5cd",
   "metadata": {},
   "outputs": [
    {
     "data": {
      "text/plain": [
       "array([ 50948.15102525, 145160.72801117, 186357.85401896,  67571.7221451 ,\n",
       "       162729.03931418,  58972.26773813, 143211.31625298,  92374.83793682,\n",
       "       168828.68671882,  73356.63052082, 146244.5822283 , 125309.67393426,\n",
       "       182555.89462048,  87512.31105394, 185546.09892441,  90954.19041207,\n",
       "       175522.6696836 , 133781.24385705,  92839.46504777,  57192.56991175,\n",
       "        72982.43311242, 181433.74025964,  81915.17559288, 135348.21688299,\n",
       "        68432.92263597,  84974.67657048, 166460.29326633, 152801.59564463,\n",
       "       106860.79296384, 133158.99362394, 149123.26537565, 138674.30233633,\n",
       "       176002.79897703, 107264.2389525 , 115269.40858772, 150477.98637368,\n",
       "       161497.8967632 ,  93338.49798311, 163237.58933962, 103357.68180896,\n",
       "       184641.83664982, 142005.16682961, 167133.81170284, 146394.40352061,\n",
       "       106564.08919619, 137528.47277619, 180903.22013715, 110555.48667436,\n",
       "       163585.10591809,  68793.77963339, 109173.62806481, 100749.86533016,\n",
       "        52280.4799381 , 132729.237872  ,  64628.85226077,  52053.37706795,\n",
       "        85129.66526493,  56866.16218403,  77173.58593836, 103238.44301217,\n",
       "       180086.34842726, 142165.77829483, 105714.91260094,  64706.39680864,\n",
       "       171463.20130714, 104029.91700464, 159384.3951406 , 146937.45360575,\n",
       "       123411.5477714 , 131193.62429868, 142915.05176264, 172228.01057696,\n",
       "        99413.26378304,  65584.85538699, 170837.55696883,  90727.71932219,\n",
       "       100587.98685173, 181374.28164749,  68387.31072651, 171635.05960654,\n",
       "        57035.82532027, 181507.38443454, 136223.23056934, 143657.87470781,\n",
       "        87979.5218058 ,  65788.54591554,  65570.65371695, 185236.08814065,\n",
       "       124183.17992313, 172357.19558314, 186268.28567983, 165233.06839186,\n",
       "       126074.92247341,  78045.62750926, 159986.43117369,  99310.77689437,\n",
       "       163545.48914667, 113330.77089516, 109762.67865428, 174962.42830071,\n",
       "        91717.27718771, 153928.08965575, 181283.02432138, 106145.9688733 ,\n",
       "       175948.50775904,  63391.73185136, 158744.7999584 , 124225.3804478 ,\n",
       "        92569.00414134, 131321.54611929,  78730.30847796, 116221.93332273,\n",
       "       182606.74083414,  68069.09341872,  50309.58814218,  98208.36396498,\n",
       "       131297.86708439, 141738.60619178, 112495.37398022, 159996.73257513,\n",
       "       168146.58939102,  75767.22438564,  81246.83410747,  60985.86612015,\n",
       "       160735.7046415 , 127107.54188999,  67614.36193909, 126474.53499116,\n",
       "        65263.19318721,  87712.97855991,  93022.48588735, 121763.97377217,\n",
       "       182517.13910015, 154973.15483737,  51865.36512473, 138492.76716656,\n",
       "       162161.90814729, 132818.54312897,  81980.98303991, 169962.10402113,\n",
       "       164847.23555441, 184183.23829644, 182651.1031303 ,  99050.26230169,\n",
       "       130912.47351626,  77480.2187322 , 155396.49346952,  56493.29294071,\n",
       "       102554.23396167, 169587.43383619,  66341.84660734, 166155.88926637,\n",
       "       184252.13705894, 169423.83274325,  79125.17557533, 169182.65381194,\n",
       "       158401.72729173, 108483.77970195, 177968.96264333, 127811.17004549,\n",
       "       144390.34558506,  68295.12523927, 135775.86165023, 172657.34434715,\n",
       "       147063.6157017 ,  74175.24212481,  59781.82755956, 162883.20026475,\n",
       "        58324.65318645,  95495.51047179, 136393.36636658,  51640.58302822,\n",
       "       111571.26998521, 139499.83723949, 164639.2562827 , 154976.63323656,\n",
       "       120572.05941371,  72723.623622  ,  63350.78105233,  92435.5462746 ,\n",
       "        56844.158575  , 136924.2749716 , 172612.94865612,  68757.60785833,\n",
       "       138115.36159417, 116680.10979871,  69062.95741933,  74439.64099912,\n",
       "       133884.15261514,  92898.46817096, 104863.59152178,  55861.10213764,\n",
       "        53099.54680716, 169405.0873761 , 139786.6281926 , 106817.73129245,\n",
       "       109703.25354933, 143874.04451657, 144033.76122351, 121763.97377217])"
      ]
     },
     "execution_count": 12,
     "metadata": {},
     "output_type": "execute_result"
    }
   ],
   "source": [
    "y_pred = regressor.predict(X_test)\n",
    "y_pred"
   ]
  },
  {
   "cell_type": "code",
   "execution_count": 13,
   "id": "61724cb3",
   "metadata": {},
   "outputs": [
    {
     "data": {
      "text/plain": [
       "array([ 3.11227703e+01, -3.17643534e+02,  2.86520764e+02,  5.41348647e-01,\n",
       "        1.12339172e+00,  7.98017515e-02])"
      ]
     },
     "execution_count": 13,
     "metadata": {},
     "output_type": "execute_result"
    }
   ],
   "source": [
    "regressor.coef_ # Coefficeint of the X's in Y = MX + C"
   ]
  },
  {
   "cell_type": "code",
   "execution_count": 14,
   "id": "2a51b7ae",
   "metadata": {},
   "outputs": [
    {
     "data": {
      "text/plain": [
       "-80645.1125230166"
      ]
     },
     "execution_count": 14,
     "metadata": {},
     "output_type": "execute_result"
    }
   ],
   "source": [
    "regressor.intercept_ # Y intercept of plot of Y = MX + C"
   ]
  },
  {
   "cell_type": "code",
   "execution_count": 15,
   "id": "cac2256d",
   "metadata": {},
   "outputs": [
    {
     "data": {
      "text/plain": [
       "0.9638170977568515"
      ]
     },
     "execution_count": 15,
     "metadata": {},
     "output_type": "execute_result"
    }
   ],
   "source": [
    "from sklearn.metrics import r2_score \n",
    "r2_score(y_test,y_pred)\n",
    "#R2 score tells us how good the line of best fit is "
   ]
  },
  {
   "cell_type": "code",
   "execution_count": null,
   "id": "e8a91025",
   "metadata": {},
   "outputs": [],
   "source": []
  },
  {
   "cell_type": "code",
   "execution_count": null,
   "id": "2d6412a5",
   "metadata": {},
   "outputs": [],
   "source": []
  }
 ],
 "metadata": {
  "kernelspec": {
   "display_name": "Python 3 (ipykernel)",
   "language": "python",
   "name": "python3"
  },
  "language_info": {
   "codemirror_mode": {
    "name": "ipython",
    "version": 3
   },
   "file_extension": ".py",
   "mimetype": "text/x-python",
   "name": "python",
   "nbconvert_exporter": "python",
   "pygments_lexer": "ipython3",
   "version": "3.11.5"
  }
 },
 "nbformat": 4,
 "nbformat_minor": 5
}
